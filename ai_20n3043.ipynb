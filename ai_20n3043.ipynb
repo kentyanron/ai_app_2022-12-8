{
  "nbformat": 4,
  "nbformat_minor": 0,
  "metadata": {
    "colab": {
      "provenance": [],
      "authorship_tag": "ABX9TyOWICfnR3qWCePGF7a7Olis",
      "include_colab_link": true
    },
    "kernelspec": {
      "name": "python3",
      "display_name": "Python 3"
    },
    "language_info": {
      "name": "python"
    }
  },
  "cells": [
    {
      "cell_type": "markdown",
      "metadata": {
        "id": "view-in-github",
        "colab_type": "text"
      },
      "source": [
        "<a href=\"https://colab.research.google.com/github/kentyanron/ai_app_2022-12-8/blob/main/ai_20n3043.ipynb\" target=\"_parent\"><img src=\"https://colab.research.google.com/assets/colab-badge.svg\" alt=\"Open In Colab\"/></a>"
      ]
    },
    {
      "cell_type": "markdown",
      "source": [
        "RNNによる自動作曲をするアプリのプログラムです。アプリ化がうまくいかないため、アプリ化に関わるプログラムは省略し、自動作曲をする部分のみにしております。\n",
        "\n",
        "基本的に授業資料（11_polyphony_rnn.ipynb）をベースとし、Performance RNN（高度なピアノ演奏の作曲ができるライブラリ）を用いております。また、起点となるメロディの設定の際には、pitchをランダムな値になるようにすることで、毎回違った雰囲気の曲になるようにしました。"
      ],
      "metadata": {
        "id": "GoM0KhbUVK7h"
      }
    },
    {
      "cell_type": "code",
      "execution_count": null,
      "metadata": {
        "id": "Jhq_qr72psOU"
      },
      "outputs": [],
      "source": [
        "!apt-get update -qq && apt-get install -qq libfluidsynth1 fluid-soundfont-gm build-essential libasound2-dev libjack-dev\n",
        "!pip install -qU pyfluidsynth pretty_midi\n",
        "!pip install -qU magenta"
      ]
    },
    {
      "cell_type": "code",
      "source": [
        "import magenta\n",
        "import note_seq\n",
        "from note_seq.protobuf import music_pb2\n",
        "\n",
        "seed = music_pb2.NoteSequence()  # NoteSequence\n",
        "\n",
        "import random\n",
        "a = random.randint(30,90)\n",
        "b = random.randint(30,90)\n",
        "c = random.randint(30,90)\n",
        "d = random.randint(30,90)\n",
        "e = random.randint(30,90)\n",
        "f = random.randint(30,90)\n",
        "g = random.randint(30,90)\n",
        "\n",
        "# notesにnoteを追加\n",
        "seed.notes.add(pitch=a, start_time=0.0, end_time=0.3, velocity=80)\n",
        "seed.notes.add(pitch=b, start_time=0.3, end_time=0.6, velocity=80)\n",
        "seed.notes.add(pitch=c, start_time=0.6, end_time=0.9, velocity=80)\n",
        "seed.notes.add(pitch=d, start_time=0.9, end_time=1.2, velocity=80)\n",
        "seed.notes.add(pitch=e, start_time=1.2, end_time=1.5, velocity=80)\n",
        "seed.notes.add(pitch=f, start_time=1.5, end_time=1.8, velocity=80)\n",
        "seed.notes.add(pitch=g, start_time=1.8, end_time=2.1, velocity=80)\n",
        "\n",
        "seed.total_time = 2.1  # 所要時間\n",
        "seed.tempos.add(qpm=132);  # 曲のテンポを指定\n",
        "\n",
        "note_seq.plot_sequence(seed)  # NoteSequenceの可視化\n",
        "note_seq.play_sequence(seed, synth=note_seq.fluidsynth)  # NoteSequenceの再生"
      ],
      "metadata": {
        "id": "b2rf3_Afqlmg"
      },
      "execution_count": null,
      "outputs": []
    },
    {
      "cell_type": "code",
      "source": [
        "from magenta.models.performance_rnn import performance_sequence_generator\n",
        "from magenta.models.shared import sequence_generator_bundle\n",
        "\n",
        "# モデルの初期化\n",
        "note_seq.notebook_utils.download_bundle(\"performance_with_dynamics.mag\", \"/models/\")  # Bundle（.magファイル）をダウンロード\n",
        "bundle = sequence_generator_bundle.read_bundle_file(\"/models/performance_with_dynamics.mag\")  # Bundleの読み込み\n",
        "generator_map = performance_sequence_generator.get_generator_map()\n",
        "performance_rnn = generator_map[\"performance_with_dynamics\"](checkpoint=None, bundle=bundle)  # 生成器の設定\n",
        "performance_rnn.initialize()  # 初期化"
      ],
      "metadata": {
        "id": "BCZ1ieD5rA5Z"
      },
      "execution_count": null,
      "outputs": []
    },
    {
      "cell_type": "code",
      "source": [
        "from note_seq.protobuf import generator_pb2\n",
        "\n",
        "total_time = 90 # 曲の長さ（秒）\n",
        "temperature = 1 # 曲の「ランダム度合い」を決める定数\n",
        "\n",
        "base_end_time = max(note.end_time for note in seed.notes)  #ベース曲の終了時刻\n",
        "\n",
        "# 生成器に関する設定\n",
        "generator_options = generator_pb2.GeneratorOptions()  # 生成器のオプション\n",
        "generator_options.args[\"temperature\"].float_value = temperature  # ランダム度合い\n",
        "generator_options.generate_sections.add(\n",
        "    start_time=base_end_time,  # 作曲開始時刻\n",
        "    end_time=total_time)  # 作曲終了時刻\n",
        "\n",
        "# 曲の生成\n",
        "gen_seq = performance_rnn.generate(seed, generator_options)\n",
        "\n",
        "note_seq.plot_sequence(gen_seq)  # NoteSequenceの可視化\n",
        "note_seq.play_sequence(gen_seq, synth=note_seq.fluidsynth)  # NoteSequenceの再生"
      ],
      "metadata": {
        "id": "0LtTV5YjrGkZ"
      },
      "execution_count": null,
      "outputs": []
    },
    {
      "cell_type": "code",
      "source": [
        "from google.colab import files\n",
        "\n",
        "note_seq.sequence_proto_to_midi_file(gen_seq, \"performance_rnn.mid\")  #MIDI　データに変換し保存\n",
        "files.download(\"performance_rnn.mid\")  # ダウンロード"
      ],
      "metadata": {
        "colab": {
          "base_uri": "https://localhost:8080/",
          "height": 17
        },
        "id": "CButdwfSrn72",
        "outputId": "62fbd2cf-f881-438f-b143-406eb60eb99a"
      },
      "execution_count": 5,
      "outputs": [
        {
          "output_type": "display_data",
          "data": {
            "text/plain": [
              "<IPython.core.display.Javascript object>"
            ],
            "application/javascript": [
              "\n",
              "    async function download(id, filename, size) {\n",
              "      if (!google.colab.kernel.accessAllowed) {\n",
              "        return;\n",
              "      }\n",
              "      const div = document.createElement('div');\n",
              "      const label = document.createElement('label');\n",
              "      label.textContent = `Downloading \"${filename}\": `;\n",
              "      div.appendChild(label);\n",
              "      const progress = document.createElement('progress');\n",
              "      progress.max = size;\n",
              "      div.appendChild(progress);\n",
              "      document.body.appendChild(div);\n",
              "\n",
              "      const buffers = [];\n",
              "      let downloaded = 0;\n",
              "\n",
              "      const channel = await google.colab.kernel.comms.open(id);\n",
              "      // Send a message to notify the kernel that we're ready.\n",
              "      channel.send({})\n",
              "\n",
              "      for await (const message of channel.messages) {\n",
              "        // Send a message to notify the kernel that we're ready.\n",
              "        channel.send({})\n",
              "        if (message.buffers) {\n",
              "          for (const buffer of message.buffers) {\n",
              "            buffers.push(buffer);\n",
              "            downloaded += buffer.byteLength;\n",
              "            progress.value = downloaded;\n",
              "          }\n",
              "        }\n",
              "      }\n",
              "      const blob = new Blob(buffers, {type: 'application/binary'});\n",
              "      const a = document.createElement('a');\n",
              "      a.href = window.URL.createObjectURL(blob);\n",
              "      a.download = filename;\n",
              "      div.appendChild(a);\n",
              "      a.click();\n",
              "      div.remove();\n",
              "    }\n",
              "  "
            ]
          },
          "metadata": {}
        },
        {
          "output_type": "display_data",
          "data": {
            "text/plain": [
              "<IPython.core.display.Javascript object>"
            ],
            "application/javascript": [
              "download(\"download_b761bb11-62d5-4aa4-8712-d7dbf2fa81f6\", \"performance_rnn.mid\", 1720)"
            ]
          },
          "metadata": {}
        }
      ]
    }
  ]
}